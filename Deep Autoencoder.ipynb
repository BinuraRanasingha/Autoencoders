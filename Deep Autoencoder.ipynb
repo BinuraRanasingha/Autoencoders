{
 "cells": [
  {
   "cell_type": "markdown",
   "id": "f4df6b81-7e0c-4eea-b854-6e9ee6f3de16",
   "metadata": {},
   "source": [
    "# Importing the necessary libraries"
   ]
  },
  {
   "cell_type": "code",
   "execution_count": 1,
   "id": "f1ecd5ff-f1cd-4ffe-bb39-24f81760f5b7",
   "metadata": {},
   "outputs": [],
   "source": [
    "import tensorflow as tf\n",
    "import numpy as np\n",
    "from IPython import display\n",
    "from tensorflow.keras.datasets.mnist import load_data\n",
    "from tensorflow.keras.layers import Dense, Input, Flatten, Reshape, Dropout\n",
    "from tensorflow.keras.models import Model, Sequential\n",
    "import matplotlib.pyplot as plt"
   ]
  },
  {
   "cell_type": "markdown",
   "id": "6c35fdf4-8304-4cce-8b05-6e97251297d8",
   "metadata": {},
   "source": [
    "# Loading the data"
   ]
  },
  {
   "cell_type": "code",
   "execution_count": 2,
   "id": "c1f21c47-1fd1-4769-9ebb-c538af7b852e",
   "metadata": {},
   "outputs": [],
   "source": [
    "(x_train, y_train), (x_test, y_test) = load_data()\n",
    "x_train = x_train / 255.0\n",
    "x_test = x_test / 255.0"
   ]
  },
  {
   "cell_type": "markdown",
   "id": "d17ad4e2-5099-4796-88a7-1d69cc2148a9",
   "metadata": {},
   "source": [
    "# Viewing the data"
   ]
  },
  {
   "cell_type": "code",
   "execution_count": 3,
   "id": "1e28f3eb-8f4a-4962-be50-7c925fdf7243",
   "metadata": {},
   "outputs": [
    {
     "data": {
      "image/png": "[encoded data removed]",
      "text/plain": [
       "<Figure size 640x480 with 1 Axes>"
      ]
     },
     "metadata": {},
     "output_type": "display_data"
    }
   ],
   "source": [
    "plt.imshow(x_train[0], cmap='gray')\n",
    "plt.show()"
   ]
  },
  {
   "cell_type": "markdown",
   "id": "f95f5b25-0c75-4ce1-8a57-8142ab971aec",
   "metadata": {},
   "source": [
    "# Deciding the latent space size"
   ]
  },
  {
   "cell_type": "code",
   "execution_count": 4,
   "id": "2b5c6128-9c44-4a35-80f3-80df137d1928",
   "metadata": {},
   "outputs": [],
   "source": [
    "LATENT_SIZE = 32"
   ]
  },
  {
   "cell_type": "markdown",
   "id": "d4af1e8d-7743-4616-9437-81e8773b29c6",
   "metadata": {},
   "source": [
    "# Creating the encoder"
   ]
  },
  {
   "cell_type": "code",
   "execution_count": 5,
   "id": "869eb86a-baf5-43f9-9951-79ce63233259",
   "metadata": {},
   "outputs": [],
   "source": [
    "encoder = Sequential([\n",
    "    Flatten(input_shape=(28,28)),\n",
    "    Dense(512, activation='leaky_relu'),\n",
    "    Dropout(0.5),\n",
    "\n",
    "    Dense(256, activation='leaky_relu'),\n",
    "    Dropout(0.5),\n",
    "\n",
    "    Dense(128, activation='leaky_relu'),\n",
    "    Dropout(0.5),\n",
    "\n",
    "    Dense(64, activation='leaky_relu'),\n",
    "    Dropout(0.5),\n",
    "\n",
    "    Dense(LATENT_SIZE, activation='leaky_relu') \n",
    "])"
   ]
  },
  {
   "cell_type": "markdown",
   "id": "9a1e9f91-3687-4f95-8a01-3f608a005159",
   "metadata": {},
   "source": [
    "* In this case when creating the autoencoder model; when we start to create the decoder model we do not add a reshape layer to the decoder.\n",
    "\n",
    "* Dense layers inherently work with flat (1D) vectors. Each layer's output is a flat vector, which makes it straightforward to connect dense layers in sequence without needing to reshape the data because the data remains in a flat vector form throughout the entire model (from input to latent representation to output), there is no need to reshape it into a different format.\n",
    "\n",
    "* Convolutional layers operate on multi-dimensional data (e.g., 2D images with height, width, and channels) so when using convolutional layers in an autoencoder, reshaping is often necessary to convert between the flat latent representation and the multi-dimensional format required by the convolutional layers (e.g., using Reshape before Conv2DTranspose)."
   ]
  },
  {
   "cell_type": "markdown",
   "id": "bbb8a13c-046a-4300-b6c8-b2211ca8e244",
   "metadata": {},
   "source": [
    "# Creating the decoder"
   ]
  },
  {
   "cell_type": "code",
   "execution_count": 6,
   "id": "3276e709-1876-42a0-84af-52a9419eb177",
   "metadata": {},
   "outputs": [],
   "source": [
    "decoder = Sequential([\n",
    "    Dense(64, activation='leaky_relu', input_shape=(LATENT_SIZE,)),\n",
    "    Dropout(0.5),\n",
    "\n",
    "    Dense(128, activation='leaky_relu'),\n",
    "    Dropout(0.5),\n",
    "\n",
    "    Dense(256, activation='leaky_relu'),\n",
    "    Dropout(0.5),\n",
    "\n",
    "    Dense(512, activation='leaky_relu'),\n",
    "    Dropout(0.5),\n",
    "\n",
    "    Dense(784, activation='leaky_relu'), #input_shape = (28,28) -> no. of neurons = 28 * 28\n",
    "    Reshape((28,28))\n",
    "])"
   ]
  },
  {
   "cell_type": "markdown",
   "id": "efdcf15b-e7b7-4b33-bc64-5dc214a253d1",
   "metadata": {},
   "source": [
    "* The **Reshape layer** then converts the 1D vector of 784 elements back into a 2D 28x28 image format. This is crucial for visualizing the reconstructed image and for calculating the loss during training (e.g., comparing the reconstructed image with the original image)."
   ]
  },
  {
   "cell_type": "code",
   "execution_count": 7,
   "id": "66bc285d-2491-43e6-b6ef-6593d10561b5",
   "metadata": {},
   "outputs": [],
   "source": [
    "img = Input(shape = (28, 28))"
   ]
  },
  {
   "cell_type": "code",
   "execution_count": 8,
   "id": "f6ac0b78-5f62-4042-a5bb-f624bf2a2ae6",
   "metadata": {},
   "outputs": [],
   "source": [
    "latent_vector = encoder(img)\n",
    "output = decoder(latent_vector)"
   ]
  },
  {
   "cell_type": "code",
   "execution_count": 9,
   "id": "ab3ee631-bde6-4b23-8302-99b44ecdfd3e",
   "metadata": {},
   "outputs": [],
   "source": [
    "model = Model(inputs = img, outputs = output)"
   ]
  },
  {
   "cell_type": "code",
   "execution_count": 10,
   "id": "72214e7e-7f40-4528-924c-7f4c312a9b0f",
   "metadata": {},
   "outputs": [],
   "source": [
    "model.compile(optimizer=\"adam\", loss=\"binary_crossentropy\", metrics=['accuracy'])"
   ]
  },
  {
   "cell_type": "markdown",
   "id": "dc74231c-791c-447a-bb9d-b80e15348033",
   "metadata": {},
   "source": [
    "# Training the model"
   ]
  },
  {
   "cell_type": "code",
   "execution_count": 11,
   "id": "36748314-dd4e-47bc-bf19-5b11633bb3b9",
   "metadata": {},
   "outputs": [],
   "source": [
    "EPOCHS = 60"
   ]
  },
  {
   "cell_type": "code",
   "execution_count": 12,
   "id": "6ae78152-e6a8-43bc-af1b-653a85035ff8",
   "metadata": {},
   "outputs": [
    {
     "name": "stdout",
     "output_type": "stream",
     "text": [
      "1/1 [==============================] - 0s 18ms/step\n",
      "1/1 [==============================] - 0s 23ms/step\n",
      "1/1 [==============================] - 0s 18ms/step\n",
      "1/1 [==============================] - 0s 18ms/step\n",
      "1/1 [==============================] - 0s 18ms/step\n",
      "1/1 [==============================] - 0s 18ms/step\n",
      "1/1 [==============================] - 0s 17ms/step\n",
      "1/1 [==============================] - 0s 18ms/step\n",
      "1/1 [==============================] - 0s 18ms/step\n",
      "1/1 [==============================] - 0s 18ms/step\n",
      "1/1 [==============================] - 0s 18ms/step\n",
      "1/1 [==============================] - 0s 18ms/step\n",
      "1/1 [==============================] - 0s 18ms/step\n",
      "1/1 [==============================] - 0s 18ms/step\n",
      "1/1 [==============================] - 0s 18ms/step\n",
      "1/1 [==============================] - 0s 17ms/step\n"
     ]
    },
    {
     "data": {
      "image/png": "[encoded data removed]",
      "text/plain": [
       "<Figure size 640x480 with 16 Axes>"
      ]
     },
     "metadata": {},
     "output_type": "display_data"
    },
    {
     "name": "stdout",
     "output_type": "stream",
     "text": [
      "-------------- EPOCH 59 -------------\n",
      "1875/1875 [==============================] - 15s 8ms/step - loss: 0.2916 - accuracy: 0.0940\n"
     ]
    }
   ],
   "source": [
    "for epoch in range(EPOCHS):\n",
    "    fig, axs = plt.subplots(4, 4)\n",
    "    rand = x_test[np.random.randint(0, 10000, 16)].reshape((4,4,1,28,28))\n",
    "    display.clear_output()\n",
    "\n",
    "    for i in range(4):\n",
    "        for j in range(4):\n",
    "            axs[i, j].imshow(model.predict(rand[i, j])[0], cmap=\"gray\")\n",
    "            axs[i, j].axis(\"off\")\n",
    "\n",
    "    plt.subplots_adjust(wspace=0, hspace=0)\n",
    "    plt.show()\n",
    "    print(\"--------------\", \"EPOCH\", epoch, \"-------------\")\n",
    "    model.fit(x_train, x_train)"
   ]
  },
  {
   "cell_type": "code",
   "execution_count": null,
   "id": "49202c9e-b3ef-4b12-8636-b67a17acee8f",
   "metadata": {},
   "outputs": [],
   "source": []
  }
 ],
 "metadata": {
  "kernelspec": {
   "display_name": "Python 3 (ipykernel)",
   "language": "python",
   "name": "python3"
  },
  "language_info": {
   "codemirror_mode": {
    "name": "ipython",
    "version": 3
   },
   "file_extension": ".py",
   "mimetype": "text/x-python",
   "name": "python",
   "nbconvert_exporter": "python",
   "pygments_lexer": "ipython3",
   "version": "3.9.18"
  }
 },
 "nbformat": 4,
 "nbformat_minor": 5
}
