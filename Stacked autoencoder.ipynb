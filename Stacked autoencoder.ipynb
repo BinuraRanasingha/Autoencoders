{
 "cells": [
  {
   "cell_type": "code",
   "execution_count": 1,
   "id": "d4554f9e-28d0-4acf-abdd-0c8422874ec7",
   "metadata": {},
   "outputs": [],
   "source": [
    "# Importing the necessary libraries\n",
    "import tensorflow as tf\n",
    "import numpy as np\n",
    "import matplotlib.pyplot as plt\n",
    "from tensorflow.keras.datasets.fashion_mnist import load_data\n",
    "from tensorflow.keras.models import Sequential, Model\n",
    "from tensorflow.keras.layers import Flatten, Dense, Reshape\n",
    "from tensorflow.keras.metrics import binary_accuracy\n",
    "from tensorflow.keras.optimizers import SGD"
   ]
  },
  {
   "cell_type": "code",
   "execution_count": 2,
   "id": "e9c602b2-076e-493b-9c99-72ce45dd39a7",
   "metadata": {},
   "outputs": [],
   "source": [
    "# Loading the data\n",
    "(x_train_full, y_train_full), (x_test, y_test) = load_data()"
   ]
  },
  {
   "cell_type": "code",
   "execution_count": 3,
   "id": "b72dc1a9-2464-44c7-94d3-0d1e5c89a392",
   "metadata": {},
   "outputs": [],
   "source": [
    "x_train_full = x_train_full.astype(np.float32) / 255\n",
    "x_test = x_test.astype(np.float32) / 255"
   ]
  },
  {
   "cell_type": "code",
   "execution_count": 4,
   "id": "22a7bc37-2b00-4f1c-adac-df81a7df790f",
   "metadata": {},
   "outputs": [],
   "source": [
    "x_train, x_valid = x_train_full[:-5000], x_train_full[-5000:]\n",
    "y_train, y_valid = y_train_full[:-5000], y_train_full[-5000:]"
   ]
  },
  {
   "cell_type": "code",
   "execution_count": 5,
   "id": "29243458-e243-4d19-a587-74d5a1d75d0e",
   "metadata": {},
   "outputs": [],
   "source": [
    "# Creating the encoder model\n",
    "stacked_encoder = Sequential([\n",
    "    Flatten(input_shape=[28,28]),\n",
    "    Dense(100, activation='selu'),\n",
    "    Dense(30, activation='selu', name='30UnitsDense')\n",
    "])"
   ]
  },
  {
   "cell_type": "code",
   "execution_count": 6,
   "id": "e3a68988-86f8-490d-9869-3715dc32bc7c",
   "metadata": {},
   "outputs": [],
   "source": [
    "# Creating the decoder model\n",
    "stacked_decoder = Sequential([\n",
    "    Dense(100, activation='selu', input_shape=[30],),\n",
    "    Dense(784, activation='sigmoid'),\n",
    "    Reshape([28, 28])\n",
    "])"
   ]
  },
  {
   "cell_type": "code",
   "execution_count": 7,
   "id": "ceec9c02-22f2-4d74-bbd4-7ad518a58bcf",
   "metadata": {},
   "outputs": [],
   "source": [
    "# Creating the autoencoder model by combining the encoder and the decoder models\n",
    "stacked_autoencoder = Sequential([stacked_encoder, stacked_decoder])"
   ]
  },
  {
   "cell_type": "code",
   "execution_count": 8,
   "id": "2d3794ac-1214-4a4f-ac71-eca499ffdef4",
   "metadata": {},
   "outputs": [],
   "source": [
    "def rounded_accuracy(y_true, y_pred):\n",
    "    return binary_accuracy(tf.round(y_true), tf.round(y_pred))"
   ]
  },
  {
   "cell_type": "markdown",
   "id": "023717e4-a20a-445c-a8f3-25e88f8856af",
   "metadata": {},
   "source": [
    "* **binary_accuracy** is used to compute the **accuracy of binary classification models** in TensorFlow. This metric measures how often predictions match binary labels."
   ]
  },
  {
   "cell_type": "code",
   "execution_count": 9,
   "id": "b9c3503c-ac7c-4364-a2d1-d32d4fd3971b",
   "metadata": {},
   "outputs": [],
   "source": [
    "optimizer = SGD(learning_rate=1.5)"
   ]
  },
  {
   "cell_type": "code",
   "execution_count": 10,
   "id": "c7c84c3c-48e3-4644-b127-c4e20a04ec2f",
   "metadata": {},
   "outputs": [],
   "source": [
    "# Compiling the autoencoder model\n",
    "stacked_autoencoder.compile(loss='binary_crossentropy', optimizer=optimizer, metrics=[rounded_accuracy])"
   ]
  },
  {
   "cell_type": "code",
   "execution_count": 11,
   "id": "b2faa3e2-a6ee-4798-9b5d-35db4156f18a",
   "metadata": {},
   "outputs": [
    {
     "name": "stdout",
     "output_type": "stream",
     "text": [
      "Model: \"sequential_2\"\n",
      "_________________________________________________________________\n",
      " Layer (type)                Output Shape              Param #   \n",
      "=================================================================\n",
      " sequential (Sequential)     (None, 30)                81530     \n",
      "                                                                 \n",
      " sequential_1 (Sequential)   (None, 28, 28)            82284     \n",
      "                                                                 \n",
      "=================================================================\n",
      "Total params: 163,814\n",
      "Trainable params: 163,814\n",
      "Non-trainable params: 0\n",
      "_________________________________________________________________\n"
     ]
    }
   ],
   "source": [
    "stacked_autoencoder.summary()"
   ]
  },
  {
   "cell_type": "code",
   "execution_count": 12,
   "id": "007dedc6-0b2e-4311-a579-69b163eb15d4",
   "metadata": {},
   "outputs": [
    {
     "data": {
      "text/plain": [
       "<KerasTensor: shape=(None, 30) dtype=float32 (created by layer '30UnitsDense')>"
      ]
     },
     "execution_count": 12,
     "metadata": {},
     "output_type": "execute_result"
    }
   ],
   "source": [
    "stacked_autoencoder.layers[0].output"
   ]
  },
  {
   "cell_type": "code",
   "execution_count": 13,
   "id": "1fa541ce-d3ad-4700-9851-878f0b33dbc7",
   "metadata": {},
   "outputs": [
    {
     "data": {
      "text/plain": [
       "(55000, 28, 28)"
      ]
     },
     "execution_count": 13,
     "metadata": {},
     "output_type": "execute_result"
    }
   ],
   "source": [
    "x_train.shape"
   ]
  },
  {
   "cell_type": "code",
   "execution_count": 14,
   "id": "6e6a3984-cc46-4920-8f4c-61bdd59b197a",
   "metadata": {},
   "outputs": [
    {
     "name": "stdout",
     "output_type": "stream",
     "text": [
      "Epoch 1/10\n",
      "1719/1719 [==============================] - 9s 5ms/step - loss: 0.3366 - rounded_accuracy: 0.8885 - val_loss: 0.3120 - val_rounded_accuracy: 0.9134\n",
      "Epoch 2/10\n",
      "1719/1719 [==============================] - 8s 5ms/step - loss: 0.3044 - rounded_accuracy: 0.9164 - val_loss: 0.3017 - val_rounded_accuracy: 0.9198\n",
      "Epoch 3/10\n",
      "1719/1719 [==============================] - 8s 5ms/step - loss: 0.2975 - rounded_accuracy: 0.9227 - val_loss: 0.2954 - val_rounded_accuracy: 0.9265\n",
      "Epoch 4/10\n",
      "1719/1719 [==============================] - 8s 5ms/step - loss: 0.2932 - rounded_accuracy: 0.9267 - val_loss: 0.2945 - val_rounded_accuracy: 0.9248\n",
      "Epoch 5/10\n",
      "1719/1719 [==============================] - 8s 5ms/step - loss: 0.2905 - rounded_accuracy: 0.9290 - val_loss: 0.2911 - val_rounded_accuracy: 0.9298\n",
      "Epoch 6/10\n",
      "1719/1719 [==============================] - 8s 5ms/step - loss: 0.2887 - rounded_accuracy: 0.9306 - val_loss: 0.2886 - val_rounded_accuracy: 0.9328\n",
      "Epoch 7/10\n",
      "1719/1719 [==============================] - 8s 5ms/step - loss: 0.2874 - rounded_accuracy: 0.9318 - val_loss: 0.2880 - val_rounded_accuracy: 0.9321\n",
      "Epoch 8/10\n",
      "1719/1719 [==============================] - 8s 5ms/step - loss: 0.2864 - rounded_accuracy: 0.9327 - val_loss: 0.2882 - val_rounded_accuracy: 0.9313\n",
      "Epoch 9/10\n",
      "1719/1719 [==============================] - 8s 5ms/step - loss: 0.2855 - rounded_accuracy: 0.9334 - val_loss: 0.2859 - val_rounded_accuracy: 0.9348\n",
      "Epoch 10/10\n",
      "1719/1719 [==============================] - 8s 5ms/step - loss: 0.2848 - rounded_accuracy: 0.9341 - val_loss: 0.2864 - val_rounded_accuracy: 0.9327\n"
     ]
    }
   ],
   "source": [
    "history = stacked_autoencoder.fit(x_train, x_train, epochs=10, validation_data=(x_valid, x_valid))"
   ]
  },
  {
   "cell_type": "code",
   "execution_count": 15,
   "id": "be930915-0025-4557-9b86-c220714106fc",
   "metadata": {},
   "outputs": [],
   "source": [
    "def plot_image(image):\n",
    "    plt.imshow(image, cmap='binary')\n",
    "    plt.axis('off')"
   ]
  },
  {
   "cell_type": "code",
   "execution_count": 16,
   "id": "7c0c6308-ec7b-40d9-953c-f303f52db5d8",
   "metadata": {},
   "outputs": [],
   "source": [
    "def show_reconstruction(model, images=x_valid, n_images=3):\n",
    "    reconstructions = model.predict(images[:n_images])\n",
    "    print(reconstructions[0].shape)\n",
    "    fig = plt.figure(figsize=(n_images * 1.5, 3))\n",
    "    for image_index in range (n_images):\n",
    "        plt.subplot(2, n_images, 1 + image_index)\n",
    "        plot_image(images[image_index])\n",
    "        plt.subplot(2, n_images, 1 + n_images + image_index)\n",
    "        plot_image(reconstructions[image_index])"
   ]
  },
  {
   "cell_type": "code",
   "execution_count": 17,
   "id": "6d67961c-9527-42b2-81c2-828f60c8212b",
   "metadata": {},
   "outputs": [
    {
     "name": "stdout",
     "output_type": "stream",
     "text": [
      "1/1 [==============================] - 0s 88ms/step\n",
      "(28, 28)\n"
     ]
    },
    {
     "data": {
      "image/png": "[encoded data removed]",
      "text/plain": [
       "<Figure size 450x300 with 6 Axes>"
      ]
     },
     "metadata": {},
     "output_type": "display_data"
    }
   ],
   "source": [
    "show_reconstruction(stacked_autoencoder)"
   ]
  },
  {
   "cell_type": "code",
   "execution_count": 18,
   "id": "f0697802-720b-47c2-99ff-e2b9e05fc26e",
   "metadata": {},
   "outputs": [
    {
     "name": "stdout",
     "output_type": "stream",
     "text": [
      "1/1 [==============================] - 0s 22ms/step\n"
     ]
    },
    {
     "data": {
      "text/plain": [
       "<tf.Variable '30UnitsDense/bias:0' shape=(30,) dtype=float32, numpy=\n",
       "array([-0.04286745, -0.1128528 , -0.14493501,  0.1047961 ,  0.3177184 ,\n",
       "       -0.10948526, -0.05752736, -0.06129047, -0.0971102 ,  0.03603799,\n",
       "       -0.08518586,  0.22715914, -0.07127549,  0.03397033, -0.09288227,\n",
       "        0.10279129,  0.0047334 ,  0.03726342,  0.17378785,  0.07712601,\n",
       "        0.20645334, -0.09766605,  0.26335672, -0.11568721, -0.04436362,\n",
       "       -0.01708291, -0.08465092, -0.10121089, -0.03602143, -0.03799267],\n",
       "      dtype=float32)>"
      ]
     },
     "execution_count": 18,
     "metadata": {},
     "output_type": "execute_result"
    },
    {
     "data": {
      "image/png": "[encoded data removed]",
      "text/plain": [
       "<Figure size 640x480 with 1 Axes>"
      ]
     },
     "metadata": {},
     "output_type": "display_data"
    }
   ],
   "source": [
    "plot_image(stacked_autoencoder.predict(x_valid[:1])[0])\n",
    "stacked_autoencoder.layers[0].weights[3]"
   ]
  },
  {
   "cell_type": "code",
   "execution_count": 19,
   "id": "e91fdc2d-67f3-437f-9e4b-751ecd2e61cf",
   "metadata": {},
   "outputs": [
    {
     "name": "stdout",
     "output_type": "stream",
     "text": [
      "1/1 [==============================] - 0s 20ms/step\n"
     ]
    },
    {
     "data": {
      "text/plain": [
       "<tf.Variable '30UnitsDense/bias:0' shape=(30,) dtype=float32, numpy=\n",
       "array([-0.04286745, -0.1128528 , -0.14493501,  0.1047961 ,  0.3177184 ,\n",
       "       -0.10948526, -0.05752736, -0.06129047, -0.0971102 ,  0.03603799,\n",
       "       -0.08518586,  0.22715914, -0.07127549,  0.03397033, -0.09288227,\n",
       "        0.10279129,  0.0047334 ,  0.03726342,  0.17378785,  0.07712601,\n",
       "        0.20645334, -0.09766605,  0.26335672, -0.11568721, -0.04436362,\n",
       "       -0.01708291, -0.08465092, -0.10121089, -0.03602143, -0.03799267],\n",
       "      dtype=float32)>"
      ]
     },
     "execution_count": 19,
     "metadata": {},
     "output_type": "execute_result"
    },
    {
     "data": {
      "image/png": "[encoded data removed]",
      "text/plain": [
       "<Figure size 640x480 with 1 Axes>"
      ]
     },
     "metadata": {},
     "output_type": "display_data"
    }
   ],
   "source": [
    "plot_image(stacked_autoencoder.predict(x_valid[1:2])[0])\n",
    "stacked_autoencoder.layers[0].weights[3]"
   ]
  },
  {
   "cell_type": "code",
   "execution_count": 20,
   "id": "92ba385a-37e0-4ea0-888e-ead2b3b4369e",
   "metadata": {},
   "outputs": [
    {
     "name": "stdout",
     "output_type": "stream",
     "text": [
      "Model: \"sequential_2\"\n",
      "_________________________________________________________________\n",
      " Layer (type)                Output Shape              Param #   \n",
      "=================================================================\n",
      " sequential (Sequential)     (None, 30)                81530     \n",
      "                                                                 \n",
      " sequential_1 (Sequential)   (None, 28, 28)            82284     \n",
      "                                                                 \n",
      "=================================================================\n",
      "Total params: 163,814\n",
      "Trainable params: 163,814\n",
      "Non-trainable params: 0\n",
      "_________________________________________________________________\n",
      "None\n",
      "sequential\n",
      "KerasTensor(type_spec=TensorSpec(shape=(None, 30), dtype=tf.float32, name=None), name='30UnitsDense/Selu:0', description=\"created by layer '30UnitsDense'\")\n"
     ]
    }
   ],
   "source": [
    "print(stacked_autoencoder.summary())\n",
    "print(stacked_autoencoder.get_layer(index=0).name)\n",
    "print(stacked_autoencoder.get_layer(index=0).output)"
   ]
  },
  {
   "cell_type": "code",
   "execution_count": 21,
   "id": "1a43c464-b7cb-479a-8921-4254b2743d80",
   "metadata": {},
   "outputs": [
    {
     "name": "stdout",
     "output_type": "stream",
     "text": [
      "Epoch 1/2\n",
      "1719/1719 [==============================] - 16s 9ms/step - loss: 0.3380 - rounded_accuracy: 0.8870 - val_loss: 0.3249 - val_rounded_accuracy: 0.8877\n",
      "Epoch 2/2\n",
      "1719/1719 [==============================] - 11s 6ms/step - loss: 0.3057 - rounded_accuracy: 0.9152 - val_loss: 0.3033 - val_rounded_accuracy: 0.9166\n"
     ]
    }
   ],
   "source": [
    "# Creating the encoder model\n",
    "stacked_autoencoder = Sequential([\n",
    "    Flatten(input_shape=[28,28]),\n",
    "    Dense(100, activation='selu'),\n",
    "    Dense(30, activation='selu', name='30UnitsDense'),\n",
    "    Dense(100, activation='selu', input_shape=[30],),\n",
    "    Dense(784, activation='sigmoid'),\n",
    "    Reshape([28, 28])\n",
    "])\n",
    "\n",
    "# Compiling the autoencoder model\n",
    "stacked_autoencoder.compile(loss='binary_crossentropy', optimizer=optimizer, metrics=[rounded_accuracy])\n",
    "\n",
    "history = stacked_autoencoder.fit(x_train, x_train, epochs=2, validation_data=(x_valid, x_valid))"
   ]
  },
  {
   "cell_type": "code",
   "execution_count": 22,
   "id": "ed1a1b76-9b39-4136-a4dd-3568baf5d3f8",
   "metadata": {},
   "outputs": [],
   "source": [
    "feature_extractor_encoder = Model(\n",
    "    inputs = stacked_autoencoder.inputs,\n",
    "    outputs = stacked_autoencoder.get_layer(index=2).output\n",
    ")"
   ]
  },
  {
   "cell_type": "code",
   "execution_count": 23,
   "id": "7bb500fe-50ad-4326-9735-0bc1e9ef142c",
   "metadata": {},
   "outputs": [
    {
     "data": {
      "text/plain": [
       "<tf.Tensor: shape=(2, 30), dtype=float32, numpy=\n",
       "array([[ 4.4944572 , -1.7580948 , -1.7580862 ,  5.7969036 ,  3.473222  ,\n",
       "        -1.7578306 , -1.7529477 , -1.7573869 , -1.7480736 ,  4.54281   ,\n",
       "        -1.758099  ,  6.2170086 , -1.7579262 , 10.747063  , -1.7563767 ,\n",
       "         9.796109  ,  4.850867  , 15.807031  ,  1.3321626 , 16.831022  ,\n",
       "         4.8214684 , -1.7578714 , -1.7577103 ,  8.436985  , -1.7575511 ,\n",
       "        -1.7577019 ,  3.7045412 , -1.7565274 , -1.7552232 , -0.5512235 ],\n",
       "       [ 2.6228287 , -1.7580976 , -1.7580208 ,  3.6967573 ,  3.7909493 ,\n",
       "        -1.758036  , -1.7579288 , -1.7575802 , -1.7427933 , 12.269539  ,\n",
       "        -1.7580993 , -1.3279312 , -1.7579436 ,  7.170279  , -0.5330188 ,\n",
       "        10.862003  ,  3.285399  ,  8.136416  , -1.7155318 , 17.359926  ,\n",
       "         3.3503778 , -1.7559755 , -1.7576404 , -1.3103298 , -1.7563967 ,\n",
       "        -1.757972  ,  4.702603  , -1.7572445 , -1.7514167 ,  0.56950814]],\n",
       "      dtype=float32)>"
      ]
     },
     "execution_count": 23,
     "metadata": {},
     "output_type": "execute_result"
    }
   ],
   "source": [
    "codings = feature_extractor_encoder(x_valid[0:2])\n",
    "codings"
   ]
  },
  {
   "cell_type": "code",
   "execution_count": 24,
   "id": "b8c798a6-7a24-4a02-aa95-a3237a990ff5",
   "metadata": {},
   "outputs": [
    {
     "name": "stdout",
     "output_type": "stream",
     "text": [
      "Model: \"model\"\n",
      "_________________________________________________________________\n",
      " Layer (type)                Output Shape              Param #   \n",
      "=================================================================\n",
      " flatten_1_input (InputLayer  [(None, 28, 28)]         0         \n",
      " )                                                               \n",
      "                                                                 \n",
      " flatten_1 (Flatten)         (None, 784)               0         \n",
      "                                                                 \n",
      " dense_3 (Dense)             (None, 100)               78500     \n",
      "                                                                 \n",
      " 30UnitsDense (Dense)        (None, 30)                3030      \n",
      "                                                                 \n",
      "=================================================================\n",
      "Total params: 81,530\n",
      "Trainable params: 81,530\n",
      "Non-trainable params: 0\n",
      "_________________________________________________________________\n"
     ]
    }
   ],
   "source": [
    "feature_extractor_encoder.summary()"
   ]
  },
  {
   "cell_type": "code",
   "execution_count": null,
   "id": "c6490a74-e329-405e-b82e-8b00d75ef334",
   "metadata": {},
   "outputs": [],
   "source": []
  }
 ],
 "metadata": {
  "kernelspec": {
   "display_name": "Python 3 (ipykernel)",
   "language": "python",
   "name": "python3"
  },
  "language_info": {
   "codemirror_mode": {
    "name": "ipython",
    "version": 3
   },
   "file_extension": ".py",
   "mimetype": "text/x-python",
   "name": "python",
   "nbconvert_exporter": "python",
   "pygments_lexer": "ipython3",
   "version": "3.9.18"
  }
 },
 "nbformat": 4,
 "nbformat_minor": 5
}
