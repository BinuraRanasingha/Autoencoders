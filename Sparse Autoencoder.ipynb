{
 "cells": [
  {
   "cell_type": "code",
   "execution_count": 1,
   "id": "6921fe94-4cfc-4837-82d0-a4274c540401",
   "metadata": {},
   "outputs": [],
   "source": [
    "# Importing the necessay libraries\n",
    "import numpy as np\n",
    "import pandas as pd\n",
    "import tensorflow as tf\n",
    "import matplotlib.pyplot as plt\n",
    "from sklearn.manifold import TSNE\n",
    "from tensorflow.keras.models import Sequential\n",
    "from tensorflow.keras.layers import Flatten, Dense, ActivityRegularization, Reshape\n",
    "from tensorflow.keras.optimizers import SGD"
   ]
  },
  {
   "cell_type": "code",
   "execution_count": 2,
   "id": "ef47e9cc-669c-4625-8a74-e7ba03ae494f",
   "metadata": {},
   "outputs": [],
   "source": [
    "# loading the data\n",
    "train = pd.read_csv(\"D:\\\\New folder\\\\ML\\\\Completed\\\\mnist_train.csv\")\n",
    "test = pd.read_csv(\"D:\\\\New folder\\\\ML\\\\Completed\\\\mnist_test.csv\")"
   ]
  },
  {
   "cell_type": "code",
   "execution_count": 3,
   "id": "1f2cc9ba-08d5-4a3d-bf58-7b56f49e72cf",
   "metadata": {},
   "outputs": [
    {
     "data": {
      "text/html": [
       "<div>\n",
       "<style scoped>\n",
       "    .dataframe tbody tr th:only-of-type {\n",
       "        vertical-align: middle;\n",
       "    }\n",
       "\n",
       "    .dataframe tbody tr th {\n",
       "        vertical-align: top;\n",
       "    }\n",
       "\n",
       "    .dataframe thead th {\n",
       "        text-align: right;\n",
       "    }\n",
       "</style>\n",
       "<table border=\"1\" class=\"dataframe\">\n",
       "  <thead>\n",
       "    <tr style=\"text-align: right;\">\n",
       "      <th></th>\n",
       "      <th>label</th>\n",
       "      <th>1x1</th>\n",
       "      <th>1x2</th>\n",
       "      <th>1x3</th>\n",
       "      <th>1x4</th>\n",
       "      <th>1x5</th>\n",
       "      <th>1x6</th>\n",
       "      <th>1x7</th>\n",
       "      <th>1x8</th>\n",
       "      <th>1x9</th>\n",
       "      <th>...</th>\n",
       "      <th>28x19</th>\n",
       "      <th>28x20</th>\n",
       "      <th>28x21</th>\n",
       "      <th>28x22</th>\n",
       "      <th>28x23</th>\n",
       "      <th>28x24</th>\n",
       "      <th>28x25</th>\n",
       "      <th>28x26</th>\n",
       "      <th>28x27</th>\n",
       "      <th>28x28</th>\n",
       "    </tr>\n",
       "  </thead>\n",
       "  <tbody>\n",
       "    <tr>\n",
       "      <th>0</th>\n",
       "      <td>5</td>\n",
       "      <td>0</td>\n",
       "      <td>0</td>\n",
       "      <td>0</td>\n",
       "      <td>0</td>\n",
       "      <td>0</td>\n",
       "      <td>0</td>\n",
       "      <td>0</td>\n",
       "      <td>0</td>\n",
       "      <td>0</td>\n",
       "      <td>...</td>\n",
       "      <td>0</td>\n",
       "      <td>0</td>\n",
       "      <td>0</td>\n",
       "      <td>0</td>\n",
       "      <td>0</td>\n",
       "      <td>0</td>\n",
       "      <td>0</td>\n",
       "      <td>0</td>\n",
       "      <td>0</td>\n",
       "      <td>0</td>\n",
       "    </tr>\n",
       "    <tr>\n",
       "      <th>1</th>\n",
       "      <td>0</td>\n",
       "      <td>0</td>\n",
       "      <td>0</td>\n",
       "      <td>0</td>\n",
       "      <td>0</td>\n",
       "      <td>0</td>\n",
       "      <td>0</td>\n",
       "      <td>0</td>\n",
       "      <td>0</td>\n",
       "      <td>0</td>\n",
       "      <td>...</td>\n",
       "      <td>0</td>\n",
       "      <td>0</td>\n",
       "      <td>0</td>\n",
       "      <td>0</td>\n",
       "      <td>0</td>\n",
       "      <td>0</td>\n",
       "      <td>0</td>\n",
       "      <td>0</td>\n",
       "      <td>0</td>\n",
       "      <td>0</td>\n",
       "    </tr>\n",
       "    <tr>\n",
       "      <th>2</th>\n",
       "      <td>4</td>\n",
       "      <td>0</td>\n",
       "      <td>0</td>\n",
       "      <td>0</td>\n",
       "      <td>0</td>\n",
       "      <td>0</td>\n",
       "      <td>0</td>\n",
       "      <td>0</td>\n",
       "      <td>0</td>\n",
       "      <td>0</td>\n",
       "      <td>...</td>\n",
       "      <td>0</td>\n",
       "      <td>0</td>\n",
       "      <td>0</td>\n",
       "      <td>0</td>\n",
       "      <td>0</td>\n",
       "      <td>0</td>\n",
       "      <td>0</td>\n",
       "      <td>0</td>\n",
       "      <td>0</td>\n",
       "      <td>0</td>\n",
       "    </tr>\n",
       "    <tr>\n",
       "      <th>3</th>\n",
       "      <td>1</td>\n",
       "      <td>0</td>\n",
       "      <td>0</td>\n",
       "      <td>0</td>\n",
       "      <td>0</td>\n",
       "      <td>0</td>\n",
       "      <td>0</td>\n",
       "      <td>0</td>\n",
       "      <td>0</td>\n",
       "      <td>0</td>\n",
       "      <td>...</td>\n",
       "      <td>0</td>\n",
       "      <td>0</td>\n",
       "      <td>0</td>\n",
       "      <td>0</td>\n",
       "      <td>0</td>\n",
       "      <td>0</td>\n",
       "      <td>0</td>\n",
       "      <td>0</td>\n",
       "      <td>0</td>\n",
       "      <td>0</td>\n",
       "    </tr>\n",
       "    <tr>\n",
       "      <th>4</th>\n",
       "      <td>9</td>\n",
       "      <td>0</td>\n",
       "      <td>0</td>\n",
       "      <td>0</td>\n",
       "      <td>0</td>\n",
       "      <td>0</td>\n",
       "      <td>0</td>\n",
       "      <td>0</td>\n",
       "      <td>0</td>\n",
       "      <td>0</td>\n",
       "      <td>...</td>\n",
       "      <td>0</td>\n",
       "      <td>0</td>\n",
       "      <td>0</td>\n",
       "      <td>0</td>\n",
       "      <td>0</td>\n",
       "      <td>0</td>\n",
       "      <td>0</td>\n",
       "      <td>0</td>\n",
       "      <td>0</td>\n",
       "      <td>0</td>\n",
       "    </tr>\n",
       "  </tbody>\n",
       "</table>\n",
       "<p>5 rows × 785 columns</p>\n",
       "</div>"
      ],
      "text/plain": [
       "   label  1x1  1x2  1x3  1x4  1x5  1x6  1x7  1x8  1x9  ...  28x19  28x20  \\\n",
       "0      5    0    0    0    0    0    0    0    0    0  ...      0      0   \n",
       "1      0    0    0    0    0    0    0    0    0    0  ...      0      0   \n",
       "2      4    0    0    0    0    0    0    0    0    0  ...      0      0   \n",
       "3      1    0    0    0    0    0    0    0    0    0  ...      0      0   \n",
       "4      9    0    0    0    0    0    0    0    0    0  ...      0      0   \n",
       "\n",
       "   28x21  28x22  28x23  28x24  28x25  28x26  28x27  28x28  \n",
       "0      0      0      0      0      0      0      0      0  \n",
       "1      0      0      0      0      0      0      0      0  \n",
       "2      0      0      0      0      0      0      0      0  \n",
       "3      0      0      0      0      0      0      0      0  \n",
       "4      0      0      0      0      0      0      0      0  \n",
       "\n",
       "[5 rows x 785 columns]"
      ]
     },
     "execution_count": 3,
     "metadata": {},
     "output_type": "execute_result"
    }
   ],
   "source": [
    "train.head()"
   ]
  },
  {
   "cell_type": "code",
   "execution_count": 4,
   "id": "2bf320f1-5c3d-4cb1-bc64-6da32e715273",
   "metadata": {},
   "outputs": [
    {
     "data": {
      "text/plain": [
       "label    0\n",
       "1x1      0\n",
       "1x2      0\n",
       "1x3      0\n",
       "1x4      0\n",
       "        ..\n",
       "28x24    0\n",
       "28x25    0\n",
       "28x26    0\n",
       "28x27    0\n",
       "28x28    0\n",
       "Length: 785, dtype: int64"
      ]
     },
     "execution_count": 4,
     "metadata": {},
     "output_type": "execute_result"
    }
   ],
   "source": [
    "train.isnull().sum()"
   ]
  },
  {
   "cell_type": "code",
   "execution_count": 5,
   "id": "41b3c7ef-ad80-4608-b022-febda1d97bca",
   "metadata": {},
   "outputs": [],
   "source": [
    "def check_null_values(df):\n",
    "    if df.isnull().values.any():\n",
    "        print(\"Null value found\")\n",
    "    else:\n",
    "        print(\"No null values\")"
   ]
  },
  {
   "cell_type": "code",
   "execution_count": 6,
   "id": "16eefa52-2017-4114-adb9-553bbb9fd432",
   "metadata": {},
   "outputs": [
    {
     "name": "stdout",
     "output_type": "stream",
     "text": [
      "No null values\n"
     ]
    }
   ],
   "source": [
    "# Checking for null values in the training set\n",
    "check_null_values(train)"
   ]
  },
  {
   "cell_type": "code",
   "execution_count": 7,
   "id": "03b08ceb-63ee-4cc1-a855-5da3f4182100",
   "metadata": {},
   "outputs": [
    {
     "name": "stdout",
     "output_type": "stream",
     "text": [
      "No null values\n"
     ]
    }
   ],
   "source": [
    "# Checking for null values in the testing set\n",
    "check_null_values(test)"
   ]
  },
  {
   "cell_type": "code",
   "execution_count": 8,
   "id": "4fc56c9c-9943-403f-8e22-81658795fcee",
   "metadata": {},
   "outputs": [
    {
     "name": "stdout",
     "output_type": "stream",
     "text": [
      "<class 'pandas.core.frame.DataFrame'>\n",
      "RangeIndex: 60000 entries, 0 to 59999\n",
      "Columns: 785 entries, label to 28x28\n",
      "dtypes: int64(785)\n",
      "memory usage: 359.3 MB\n"
     ]
    }
   ],
   "source": [
    "train.info()"
   ]
  },
  {
   "cell_type": "code",
   "execution_count": 9,
   "id": "ae3579e8-4d16-41fe-84aa-c6d7f79f9fea",
   "metadata": {},
   "outputs": [
    {
     "name": "stdout",
     "output_type": "stream",
     "text": [
      "<class 'pandas.core.frame.DataFrame'>\n",
      "RangeIndex: 10000 entries, 0 to 9999\n",
      "Columns: 785 entries, label to 28x28\n",
      "dtypes: int64(785)\n",
      "memory usage: 59.9 MB\n"
     ]
    }
   ],
   "source": [
    "test.info()"
   ]
  },
  {
   "cell_type": "code",
   "execution_count": 10,
   "id": "1d2d357e-7be3-4679-96ad-d1e267901031",
   "metadata": {},
   "outputs": [],
   "source": [
    "y_train = train.label\n",
    "x_train = train.drop('label', axis=1) / 255\n",
    "\n",
    "x_test = test.drop('label', axis=1) / 255\n",
    "y_test = test['label']"
   ]
  },
  {
   "cell_type": "code",
   "execution_count": 11,
   "id": "5c4ee9fc-af13-442e-8baa-04efd72bfdbc",
   "metadata": {},
   "outputs": [],
   "source": [
    "x_train = x_train.values.reshape(x_train.shape[0], 28, 28)\n",
    "x_test = x_test.values.reshape(x_test.shape[0], 28, 28)"
   ]
  },
  {
   "cell_type": "code",
   "execution_count": 12,
   "id": "3c57fc7d-9dad-4789-bbd5-3078dd51df5b",
   "metadata": {},
   "outputs": [
    {
     "data": {
      "text/plain": [
       "(60000, 28, 28)"
      ]
     },
     "execution_count": 12,
     "metadata": {},
     "output_type": "execute_result"
    }
   ],
   "source": [
    "x_train.shape"
   ]
  },
  {
   "cell_type": "code",
   "execution_count": 13,
   "id": "24440dd5-f3ab-4eb4-9144-c5566cf10df9",
   "metadata": {},
   "outputs": [
    {
     "data": {
      "text/plain": [
       "(10000, 28, 28)"
      ]
     },
     "execution_count": 13,
     "metadata": {},
     "output_type": "execute_result"
    }
   ],
   "source": [
    "x_test.shape"
   ]
  },
  {
   "cell_type": "markdown",
   "id": "5c958cfa-667f-4b24-a530-8a76e1305c68",
   "metadata": {},
   "source": [
    "* In a **sparse autoencoder**, we **restrict the activations of the middle layer to be sparse by adding an L1 Penalty to the activations of the middle** layer. So, this means - that a lot of the **activations of the middle layer will be zero** - and the autoencoder will be forced to assign non-zero values only to the most important attributes of the data."
   ]
  },
  {
   "cell_type": "code",
   "execution_count": 14,
   "id": "abcd78d6-c076-4c57-9001-138ac2356791",
   "metadata": {},
   "outputs": [],
   "source": [
    "# Creating the encoder model\n",
    "encoder = Sequential([\n",
    "    Flatten(input_shape=(28,28)),\n",
    "    Dense(128, activation='selu'),\n",
    "    Dense(32, activation='selu'),\n",
    "    ActivityRegularization(l1=1e-3)\n",
    "])"
   ]
  },
  {
   "cell_type": "markdown",
   "id": "173440a0-4dd6-4719-95d0-18ce4cf980ec",
   "metadata": {},
   "source": [
    "* The **SELU (Scaled Exponential Linear Unit)** activation function is a **self-normalizing activation function**. It helps neural networks **maintain a mean of zero and a standard deviation of one across layers**, which can lead to improved training dynamics and performance."
   ]
  },
  {
   "cell_type": "markdown",
   "id": "d23015a2-b4d4-45aa-ba0d-1f9ff2aafa79",
   "metadata": {},
   "source": [
    "When to use the SELU activation function:\n",
    "* SELU is especially beneficial in deep neural networks because it helps to maintain the distribution of activations throughout the network, reducing the vanishing and exploding gradient problems that can occur with deep architectures.\n",
    "* When you want your network to have self-normalizing properties. SELU activation, combined with the right initialization and normalization techniques (like LeCun Normal initialization), can ensure that the output of each layer remains standardized.\n",
    "* SELU is well-suited for feedforward networks and fully connected layers.\n",
    "* If you observe that your network's training is slow or unstable, using SELU might help. It can lead to faster convergence and more stable training.\n",
    "* Tasks such as regression, classification, and other supervised learning problems where stable and efficient training is crucial can benefit from SELU."
   ]
  },
  {
   "cell_type": "markdown",
   "id": "74293eb1-8f54-412a-ac9f-6eab59228523",
   "metadata": {},
   "source": [
    "* The **ActivityRegularization layer** in TensorFlow Keras is used to apply a regularization penalty on the layer's output (its \"activity\"). This can help to enforce constraints on the values that the neurons can take during training, which can in turn help to prevent overfitting and improve generalization.\n",
    "\n",
    "* **Regularization on Outputs:** The ActivityRegularization layer adds a penalty based on the L1 and/or L2 norms of the output. This is different from weight regularization, which penalizes the weights of the layer.\n",
    "\n",
    "* **Usage in Regularization:** This layer can be used when you want to apply a regularization directly to the output of a layer. For example, you might want the outputs of a certain layer to remain small or sparse."
   ]
  },
  {
   "cell_type": "markdown",
   "id": "ef0138d2-c0a0-45a3-aa22-a5fb92a39ae4",
   "metadata": {},
   "source": [
    "When to use the ActivityRegularization layer:\n",
    "* **Preventing Overfitting:** Adding activity regularization can help to prevent overfitting by penalizing large activations, encouraging the network to produce more modest outputs.\n",
    "* **Sparse Representations:** If you want certain layers in your network to produce sparse outputs (many values close to zero), using L1 activity regularization can be beneficial.\n",
    "* **Controlling Outputs:** When you need to enforce certain constraints on the outputs of a layer, activity regularization can be useful."
   ]
  },
  {
   "cell_type": "code",
   "execution_count": 15,
   "id": "db801041-f832-43c8-aea9-fb8c58046cc5",
   "metadata": {},
   "outputs": [],
   "source": [
    "# Creating the decoder model\n",
    "decoder = Sequential([\n",
    "    Dense(128, activation='selu', input_shape=(32, )),\n",
    "    Dense(784, activation='sigmoid'),\n",
    "    Reshape([28, 28])\n",
    "])"
   ]
  },
  {
   "cell_type": "code",
   "execution_count": 16,
   "id": "13aa9905-ba89-4988-abc3-50c7293ca1a1",
   "metadata": {},
   "outputs": [],
   "source": [
    "# Creating the full model\n",
    "sparse_ae = Sequential([encoder, decoder])"
   ]
  },
  {
   "cell_type": "code",
   "execution_count": 17,
   "id": "f96bd8d1-7345-4999-87f2-ddc32a04f62b",
   "metadata": {},
   "outputs": [],
   "source": [
    "optimizer = SGD(learning_rate=0.1)"
   ]
  },
  {
   "cell_type": "code",
   "execution_count": 18,
   "id": "96cc212c-9d2e-41ef-aae9-cb40003d7578",
   "metadata": {},
   "outputs": [],
   "source": [
    "# Compiling the model\n",
    "sparse_ae.compile(loss='binary_crossentropy', optimizer=optimizer)"
   ]
  },
  {
   "cell_type": "code",
   "execution_count": 19,
   "id": "6cd7f628-7686-4d94-aff1-035c696fadc8",
   "metadata": {},
   "outputs": [
    {
     "name": "stdout",
     "output_type": "stream",
     "text": [
      "Model: \"sequential_2\"\n",
      "_________________________________________________________________\n",
      " Layer (type)                Output Shape              Param #   \n",
      "=================================================================\n",
      " sequential (Sequential)     (None, 32)                104608    \n",
      "                                                                 \n",
      " sequential_1 (Sequential)   (None, 28, 28)            105360    \n",
      "                                                                 \n",
      "=================================================================\n",
      "Total params: 209,968\n",
      "Trainable params: 209,968\n",
      "Non-trainable params: 0\n",
      "_________________________________________________________________\n"
     ]
    }
   ],
   "source": [
    "sparse_ae.summary()"
   ]
  },
  {
   "cell_type": "code",
   "execution_count": 20,
   "id": "a1993f3c-2a5b-48c5-8fd2-a592405dad0f",
   "metadata": {},
   "outputs": [
    {
     "name": "stdout",
     "output_type": "stream",
     "text": [
      "Epoch 1/30\n",
      "1875/1875 [==============================] - 7s 3ms/step - loss: 0.3347 - val_loss: 0.2799\n",
      "Epoch 2/30\n",
      "1875/1875 [==============================] - 6s 3ms/step - loss: 0.2683 - val_loss: 0.2575\n",
      "Epoch 3/30\n",
      "1875/1875 [==============================] - 6s 3ms/step - loss: 0.2487 - val_loss: 0.2379\n",
      "Epoch 4/30\n",
      "1875/1875 [==============================] - 6s 3ms/step - loss: 0.2298 - val_loss: 0.2208\n",
      "Epoch 5/30\n",
      "1875/1875 [==============================] - 6s 3ms/step - loss: 0.2159 - val_loss: 0.2091\n",
      "Epoch 6/30\n",
      "1875/1875 [==============================] - 6s 3ms/step - loss: 0.2057 - val_loss: 0.1998\n",
      "Epoch 7/30\n",
      "1875/1875 [==============================] - 6s 3ms/step - loss: 0.1966 - val_loss: 0.1912\n",
      "Epoch 8/30\n",
      "1875/1875 [==============================] - 6s 3ms/step - loss: 0.1891 - val_loss: 0.1843\n",
      "Epoch 9/30\n",
      "1875/1875 [==============================] - 6s 3ms/step - loss: 0.1828 - val_loss: 0.1785\n",
      "Epoch 10/30\n",
      "1875/1875 [==============================] - 6s 3ms/step - loss: 0.1775 - val_loss: 0.1737\n",
      "Epoch 11/30\n",
      "1875/1875 [==============================] - 6s 3ms/step - loss: 0.1732 - val_loss: 0.1697\n",
      "Epoch 12/30\n",
      "1875/1875 [==============================] - 6s 3ms/step - loss: 0.1694 - val_loss: 0.1662\n",
      "Epoch 13/30\n",
      "1875/1875 [==============================] - 6s 3ms/step - loss: 0.1661 - val_loss: 0.1630\n",
      "Epoch 14/30\n",
      "1875/1875 [==============================] - 6s 3ms/step - loss: 0.1631 - val_loss: 0.1601\n",
      "Epoch 15/30\n",
      "1875/1875 [==============================] - 7s 3ms/step - loss: 0.1603 - val_loss: 0.1575\n",
      "Epoch 16/30\n",
      "1875/1875 [==============================] - 7s 4ms/step - loss: 0.1578 - val_loss: 0.1551\n",
      "Epoch 17/30\n",
      "1875/1875 [==============================] - 7s 4ms/step - loss: 0.1555 - val_loss: 0.1529\n",
      "Epoch 18/30\n",
      "1875/1875 [==============================] - 6s 3ms/step - loss: 0.1534 - val_loss: 0.1508\n",
      "Epoch 19/30\n",
      "1875/1875 [==============================] - 6s 3ms/step - loss: 0.1514 - val_loss: 0.1489\n",
      "Epoch 20/30\n",
      "1875/1875 [==============================] - 7s 3ms/step - loss: 0.1496 - val_loss: 0.1472\n",
      "Epoch 21/30\n",
      "1875/1875 [==============================] - 6s 3ms/step - loss: 0.1480 - val_loss: 0.1456\n",
      "Epoch 22/30\n",
      "1875/1875 [==============================] - 6s 3ms/step - loss: 0.1464 - val_loss: 0.1441\n",
      "Epoch 23/30\n",
      "1875/1875 [==============================] - 6s 3ms/step - loss: 0.1449 - val_loss: 0.1426\n",
      "Epoch 24/30\n",
      "1875/1875 [==============================] - 6s 3ms/step - loss: 0.1435 - val_loss: 0.1413\n",
      "Epoch 25/30\n",
      "1875/1875 [==============================] - 6s 3ms/step - loss: 0.1422 - val_loss: 0.1400\n",
      "Epoch 26/30\n",
      "1875/1875 [==============================] - 6s 3ms/step - loss: 0.1410 - val_loss: 0.1388\n",
      "Epoch 27/30\n",
      "1875/1875 [==============================] - 6s 3ms/step - loss: 0.1398 - val_loss: 0.1377\n",
      "Epoch 28/30\n",
      "1875/1875 [==============================] - 6s 3ms/step - loss: 0.1387 - val_loss: 0.1366\n",
      "Epoch 29/30\n",
      "1875/1875 [==============================] - 6s 3ms/step - loss: 0.1376 - val_loss: 0.1355\n",
      "Epoch 30/30\n",
      "1875/1875 [==============================] - 6s 3ms/step - loss: 0.1366 - val_loss: 0.1345\n"
     ]
    }
   ],
   "source": [
    "history = sparse_ae.fit(x_train, x_train, epochs=30, validation_data=(x_test, x_test))"
   ]
  },
  {
   "cell_type": "code",
   "execution_count": 21,
   "id": "c17680e3-f341-4d60-8218-6432d58fdc7f",
   "metadata": {},
   "outputs": [
    {
     "name": "stdout",
     "output_type": "stream",
     "text": [
      "1/1 [==============================] - 0s 105ms/step\n"
     ]
    }
   ],
   "source": [
    "to_predict = x_test[:6]\n",
    "prediction = sparse_ae.predict(to_predict)"
   ]
  },
  {
   "cell_type": "code",
   "execution_count": 22,
   "id": "be303d2d-69da-462f-9ea9-a0010e62cd62",
   "metadata": {},
   "outputs": [],
   "source": [
    "def visualize_predictions(predictions, data):\n",
    "    fig, axes = plt.subplots(2, predictions.shape[0], figsize=(predictions.shape[0] * 5, 5))\n",
    "    for i, ax in zip(range(predictions.shape[0]), axes[0, :]):\n",
    "        ax.imshow(predictions[i], cmap='Greys')\n",
    "        ax.set_title(y_test[i])\n",
    "\n",
    "    for i, ax in zip(range(predictions.shape[0]), axes[1, :]):\n",
    "        ax.imshow(x_test[i], cmap='Greys')\n",
    "        ax.set_title(y_test[i])\n",
    "    return plt"
   ]
  },
  {
   "cell_type": "code",
   "execution_count": 23,
   "id": "d9ad3ae8-0a42-4482-879f-f056ca3b67fb",
   "metadata": {},
   "outputs": [
    {
     "data": {
      "text/plain": [
       "<module 'matplotlib.pyplot' from 'C:\\\\Users\\\\User\\\\anaconda3\\\\envs\\\\Research\\\\lib\\\\site-packages\\\\matplotlib\\\\pyplot.py'>"
      ]
     },
     "execution_count": 23,
     "metadata": {},
     "output_type": "execute_result"
    },
    {
     "data": {
      "image/png": "[encoded data removed]",
      "text/plain": [
       "<Figure size 3000x500 with 12 Axes>"
      ]
     },
     "metadata": {},
     "output_type": "display_data"
    }
   ],
   "source": [
    "visualize_predictions(prediction, to_predict)"
   ]
  }
 ],
 "metadata": {
  "kernelspec": {
   "display_name": "Python 3 (ipykernel)",
   "language": "python",
   "name": "python3"
  },
  "language_info": {
   "codemirror_mode": {
    "name": "ipython",
    "version": 3
   },
   "file_extension": ".py",
   "mimetype": "text/x-python",
   "name": "python",
   "nbconvert_exporter": "python",
   "pygments_lexer": "ipython3",
   "version": "3.9.18"
  }
 },
 "nbformat": 4,
 "nbformat_minor": 5
}
